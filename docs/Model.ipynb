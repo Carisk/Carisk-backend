{
 "cells": [
  {
   "cell_type": "code",
   "execution_count": 1,
   "metadata": {},
   "outputs": [],
   "source": [
    "import pandas as pd"
   ]
  },
  {
   "cell_type": "code",
   "execution_count": 2,
   "metadata": {},
   "outputs": [],
   "source": [
    "df = pd.read_csv('../dataset/full_dataset.csv', encoding=\"UTF-8\", delimiter = ';')"
   ]
  },
  {
   "cell_type": "code",
   "execution_count": 3,
   "metadata": {},
   "outputs": [
    {
     "data": {
      "text/html": [
       "<div>\n",
       "<style scoped>\n",
       "    .dataframe tbody tr th:only-of-type {\n",
       "        vertical-align: middle;\n",
       "    }\n",
       "\n",
       "    .dataframe tbody tr th {\n",
       "        vertical-align: top;\n",
       "    }\n",
       "\n",
       "    .dataframe thead th {\n",
       "        text-align: right;\n",
       "    }\n",
       "</style>\n",
       "<table border=\"1\" class=\"dataframe\">\n",
       "  <thead>\n",
       "    <tr style=\"text-align: right;\">\n",
       "      <th></th>\n",
       "      <th>Unnamed: 0</th>\n",
       "      <th>Unnamed: 0.1</th>\n",
       "      <th>Time of year</th>\n",
       "      <th>Time of day</th>\n",
       "      <th>Weekday</th>\n",
       "      <th>Accident cause</th>\n",
       "      <th>Weather</th>\n",
       "      <th>Latitude</th>\n",
       "      <th>Longitude</th>\n",
       "      <th>Veicule age</th>\n",
       "      <th>Victim age</th>\n",
       "      <th>Victim gender</th>\n",
       "    </tr>\n",
       "  </thead>\n",
       "  <tbody>\n",
       "    <tr>\n",
       "      <th>0</th>\n",
       "      <td>0</td>\n",
       "      <td>0</td>\n",
       "      <td>340</td>\n",
       "      <td>20400</td>\n",
       "      <td>QUA</td>\n",
       "      <td>Inattentive drivers</td>\n",
       "      <td>Sol</td>\n",
       "      <td>-1.310193</td>\n",
       "      <td>-47.744564</td>\n",
       "      <td>2008.0</td>\n",
       "      <td>38.0</td>\n",
       "      <td>Masculino</td>\n",
       "    </tr>\n",
       "    <tr>\n",
       "      <th>1</th>\n",
       "      <td>1</td>\n",
       "      <td>1</td>\n",
       "      <td>340</td>\n",
       "      <td>20400</td>\n",
       "      <td>QUA</td>\n",
       "      <td>Inattentive drivers</td>\n",
       "      <td>Sol</td>\n",
       "      <td>-1.310193</td>\n",
       "      <td>-47.744564</td>\n",
       "      <td>2008.0</td>\n",
       "      <td>14.0</td>\n",
       "      <td>Masculino</td>\n",
       "    </tr>\n",
       "    <tr>\n",
       "      <th>2</th>\n",
       "      <td>2</td>\n",
       "      <td>2</td>\n",
       "      <td>360</td>\n",
       "      <td>21600</td>\n",
       "      <td>QUA</td>\n",
       "      <td>Inattentive drivers</td>\n",
       "      <td>Sol</td>\n",
       "      <td>-19.767475</td>\n",
       "      <td>-47.987255</td>\n",
       "      <td>NaN</td>\n",
       "      <td>NaN</td>\n",
       "      <td>Masculino</td>\n",
       "    </tr>\n",
       "    <tr>\n",
       "      <th>3</th>\n",
       "      <td>3</td>\n",
       "      <td>3</td>\n",
       "      <td>360</td>\n",
       "      <td>21600</td>\n",
       "      <td>QUA</td>\n",
       "      <td>Inattentive drivers</td>\n",
       "      <td>Nublado</td>\n",
       "      <td>-10.320021</td>\n",
       "      <td>-39.064252</td>\n",
       "      <td>2015.0</td>\n",
       "      <td>64.0</td>\n",
       "      <td>Masculino</td>\n",
       "    </tr>\n",
       "    <tr>\n",
       "      <th>4</th>\n",
       "      <td>4</td>\n",
       "      <td>4</td>\n",
       "      <td>608</td>\n",
       "      <td>36480</td>\n",
       "      <td>QUA</td>\n",
       "      <td>Dangerous drivers</td>\n",
       "      <td>Sol</td>\n",
       "      <td>-22.856517</td>\n",
       "      <td>-45.231143</td>\n",
       "      <td>2015.0</td>\n",
       "      <td>57.0</td>\n",
       "      <td>Masculino</td>\n",
       "    </tr>\n",
       "  </tbody>\n",
       "</table>\n",
       "</div>"
      ],
      "text/plain": [
       "   Unnamed: 0  Unnamed: 0.1  Time of year  Time of day Weekday  \\\n",
       "0           0             0           340        20400     QUA   \n",
       "1           1             1           340        20400     QUA   \n",
       "2           2             2           360        21600     QUA   \n",
       "3           3             3           360        21600     QUA   \n",
       "4           4             4           608        36480     QUA   \n",
       "\n",
       "        Accident cause  Weather   Latitude  Longitude  Veicule age  \\\n",
       "0  Inattentive drivers      Sol  -1.310193 -47.744564       2008.0   \n",
       "1  Inattentive drivers      Sol  -1.310193 -47.744564       2008.0   \n",
       "2  Inattentive drivers      Sol -19.767475 -47.987255          NaN   \n",
       "3  Inattentive drivers  Nublado -10.320021 -39.064252       2015.0   \n",
       "4    Dangerous drivers      Sol -22.856517 -45.231143       2015.0   \n",
       "\n",
       "   Victim age Victim gender  \n",
       "0        38.0     Masculino  \n",
       "1        14.0     Masculino  \n",
       "2         NaN     Masculino  \n",
       "3        64.0     Masculino  \n",
       "4        57.0     Masculino  "
      ]
     },
     "execution_count": 3,
     "metadata": {},
     "output_type": "execute_result"
    }
   ],
   "source": [
    "df.head()"
   ]
  },
  {
   "cell_type": "code",
   "execution_count": 4,
   "metadata": {},
   "outputs": [],
   "source": [
    "df.dropna(inplace=True)"
   ]
  },
  {
   "cell_type": "code",
   "execution_count": 5,
   "metadata": {},
   "outputs": [
    {
     "data": {
      "text/html": [
       "<div>\n",
       "<style scoped>\n",
       "    .dataframe tbody tr th:only-of-type {\n",
       "        vertical-align: middle;\n",
       "    }\n",
       "\n",
       "    .dataframe tbody tr th {\n",
       "        vertical-align: top;\n",
       "    }\n",
       "\n",
       "    .dataframe thead th {\n",
       "        text-align: right;\n",
       "    }\n",
       "</style>\n",
       "<table border=\"1\" class=\"dataframe\">\n",
       "  <thead>\n",
       "    <tr style=\"text-align: right;\">\n",
       "      <th></th>\n",
       "      <th>Unnamed: 0</th>\n",
       "      <th>Unnamed: 0.1</th>\n",
       "      <th>Time of year</th>\n",
       "      <th>Time of day</th>\n",
       "      <th>Weekday</th>\n",
       "      <th>Accident cause</th>\n",
       "      <th>Weather</th>\n",
       "      <th>Latitude</th>\n",
       "      <th>Longitude</th>\n",
       "      <th>Veicule age</th>\n",
       "      <th>Victim age</th>\n",
       "      <th>Victim gender</th>\n",
       "    </tr>\n",
       "  </thead>\n",
       "  <tbody>\n",
       "    <tr>\n",
       "      <th>0</th>\n",
       "      <td>0</td>\n",
       "      <td>0</td>\n",
       "      <td>340</td>\n",
       "      <td>20400</td>\n",
       "      <td>QUA</td>\n",
       "      <td>Inattentive drivers</td>\n",
       "      <td>Sol</td>\n",
       "      <td>-1.310193</td>\n",
       "      <td>-47.744564</td>\n",
       "      <td>2008.0</td>\n",
       "      <td>38.0</td>\n",
       "      <td>Masculino</td>\n",
       "    </tr>\n",
       "    <tr>\n",
       "      <th>1</th>\n",
       "      <td>1</td>\n",
       "      <td>1</td>\n",
       "      <td>340</td>\n",
       "      <td>20400</td>\n",
       "      <td>QUA</td>\n",
       "      <td>Inattentive drivers</td>\n",
       "      <td>Sol</td>\n",
       "      <td>-1.310193</td>\n",
       "      <td>-47.744564</td>\n",
       "      <td>2008.0</td>\n",
       "      <td>14.0</td>\n",
       "      <td>Masculino</td>\n",
       "    </tr>\n",
       "    <tr>\n",
       "      <th>3</th>\n",
       "      <td>3</td>\n",
       "      <td>3</td>\n",
       "      <td>360</td>\n",
       "      <td>21600</td>\n",
       "      <td>QUA</td>\n",
       "      <td>Inattentive drivers</td>\n",
       "      <td>Nublado</td>\n",
       "      <td>-10.320021</td>\n",
       "      <td>-39.064252</td>\n",
       "      <td>2015.0</td>\n",
       "      <td>64.0</td>\n",
       "      <td>Masculino</td>\n",
       "    </tr>\n",
       "    <tr>\n",
       "      <th>4</th>\n",
       "      <td>4</td>\n",
       "      <td>4</td>\n",
       "      <td>608</td>\n",
       "      <td>36480</td>\n",
       "      <td>QUA</td>\n",
       "      <td>Dangerous drivers</td>\n",
       "      <td>Sol</td>\n",
       "      <td>-22.856517</td>\n",
       "      <td>-45.231143</td>\n",
       "      <td>2015.0</td>\n",
       "      <td>57.0</td>\n",
       "      <td>Masculino</td>\n",
       "    </tr>\n",
       "    <tr>\n",
       "      <th>5</th>\n",
       "      <td>5</td>\n",
       "      <td>5</td>\n",
       "      <td>730</td>\n",
       "      <td>43800</td>\n",
       "      <td>QUA</td>\n",
       "      <td>Inattentive drivers</td>\n",
       "      <td>Sol</td>\n",
       "      <td>-19.947864</td>\n",
       "      <td>-44.381226</td>\n",
       "      <td>2007.0</td>\n",
       "      <td>54.0</td>\n",
       "      <td>Masculino</td>\n",
       "    </tr>\n",
       "  </tbody>\n",
       "</table>\n",
       "</div>"
      ],
      "text/plain": [
       "   Unnamed: 0  Unnamed: 0.1  Time of year  Time of day Weekday  \\\n",
       "0           0             0           340        20400     QUA   \n",
       "1           1             1           340        20400     QUA   \n",
       "3           3             3           360        21600     QUA   \n",
       "4           4             4           608        36480     QUA   \n",
       "5           5             5           730        43800     QUA   \n",
       "\n",
       "        Accident cause  Weather   Latitude  Longitude  Veicule age  \\\n",
       "0  Inattentive drivers      Sol  -1.310193 -47.744564       2008.0   \n",
       "1  Inattentive drivers      Sol  -1.310193 -47.744564       2008.0   \n",
       "3  Inattentive drivers  Nublado -10.320021 -39.064252       2015.0   \n",
       "4    Dangerous drivers      Sol -22.856517 -45.231143       2015.0   \n",
       "5  Inattentive drivers      Sol -19.947864 -44.381226       2007.0   \n",
       "\n",
       "   Victim age Victim gender  \n",
       "0        38.0     Masculino  \n",
       "1        14.0     Masculino  \n",
       "3        64.0     Masculino  \n",
       "4        57.0     Masculino  \n",
       "5        54.0     Masculino  "
      ]
     },
     "execution_count": 5,
     "metadata": {},
     "output_type": "execute_result"
    }
   ],
   "source": [
    "df.head()"
   ]
  },
  {
   "cell_type": "code",
   "execution_count": 6,
   "metadata": {},
   "outputs": [],
   "source": [
    "x = df[['Time of year', 'Time of day', 'Weekday', 'Weather', 'Latitude', 'Longitude', 'Veicule age', 'Victim age', 'Victim gender']]\n",
    "y = df['Accident cause'] "
   ]
  },
  {
   "cell_type": "code",
   "execution_count": 7,
   "metadata": {},
   "outputs": [
    {
     "data": {
      "text/html": [
       "<div>\n",
       "<style scoped>\n",
       "    .dataframe tbody tr th:only-of-type {\n",
       "        vertical-align: middle;\n",
       "    }\n",
       "\n",
       "    .dataframe tbody tr th {\n",
       "        vertical-align: top;\n",
       "    }\n",
       "\n",
       "    .dataframe thead th {\n",
       "        text-align: right;\n",
       "    }\n",
       "</style>\n",
       "<table border=\"1\" class=\"dataframe\">\n",
       "  <thead>\n",
       "    <tr style=\"text-align: right;\">\n",
       "      <th></th>\n",
       "      <th>Time of year</th>\n",
       "      <th>Time of day</th>\n",
       "      <th>Weekday</th>\n",
       "      <th>Weather</th>\n",
       "      <th>Latitude</th>\n",
       "      <th>Longitude</th>\n",
       "      <th>Veicule age</th>\n",
       "      <th>Victim age</th>\n",
       "      <th>Victim gender</th>\n",
       "    </tr>\n",
       "  </thead>\n",
       "  <tbody>\n",
       "    <tr>\n",
       "      <th>0</th>\n",
       "      <td>340</td>\n",
       "      <td>20400</td>\n",
       "      <td>QUA</td>\n",
       "      <td>Sol</td>\n",
       "      <td>-1.310193</td>\n",
       "      <td>-47.744564</td>\n",
       "      <td>2008.0</td>\n",
       "      <td>38.0</td>\n",
       "      <td>Masculino</td>\n",
       "    </tr>\n",
       "    <tr>\n",
       "      <th>1</th>\n",
       "      <td>340</td>\n",
       "      <td>20400</td>\n",
       "      <td>QUA</td>\n",
       "      <td>Sol</td>\n",
       "      <td>-1.310193</td>\n",
       "      <td>-47.744564</td>\n",
       "      <td>2008.0</td>\n",
       "      <td>14.0</td>\n",
       "      <td>Masculino</td>\n",
       "    </tr>\n",
       "    <tr>\n",
       "      <th>3</th>\n",
       "      <td>360</td>\n",
       "      <td>21600</td>\n",
       "      <td>QUA</td>\n",
       "      <td>Nublado</td>\n",
       "      <td>-10.320021</td>\n",
       "      <td>-39.064252</td>\n",
       "      <td>2015.0</td>\n",
       "      <td>64.0</td>\n",
       "      <td>Masculino</td>\n",
       "    </tr>\n",
       "    <tr>\n",
       "      <th>4</th>\n",
       "      <td>608</td>\n",
       "      <td>36480</td>\n",
       "      <td>QUA</td>\n",
       "      <td>Sol</td>\n",
       "      <td>-22.856517</td>\n",
       "      <td>-45.231143</td>\n",
       "      <td>2015.0</td>\n",
       "      <td>57.0</td>\n",
       "      <td>Masculino</td>\n",
       "    </tr>\n",
       "    <tr>\n",
       "      <th>5</th>\n",
       "      <td>730</td>\n",
       "      <td>43800</td>\n",
       "      <td>QUA</td>\n",
       "      <td>Sol</td>\n",
       "      <td>-19.947864</td>\n",
       "      <td>-44.381226</td>\n",
       "      <td>2007.0</td>\n",
       "      <td>54.0</td>\n",
       "      <td>Masculino</td>\n",
       "    </tr>\n",
       "  </tbody>\n",
       "</table>\n",
       "</div>"
      ],
      "text/plain": [
       "   Time of year  Time of day Weekday  Weather   Latitude  Longitude  \\\n",
       "0           340        20400     QUA      Sol  -1.310193 -47.744564   \n",
       "1           340        20400     QUA      Sol  -1.310193 -47.744564   \n",
       "3           360        21600     QUA  Nublado -10.320021 -39.064252   \n",
       "4           608        36480     QUA      Sol -22.856517 -45.231143   \n",
       "5           730        43800     QUA      Sol -19.947864 -44.381226   \n",
       "\n",
       "   Veicule age  Victim age Victim gender  \n",
       "0       2008.0        38.0     Masculino  \n",
       "1       2008.0        14.0     Masculino  \n",
       "3       2015.0        64.0     Masculino  \n",
       "4       2015.0        57.0     Masculino  \n",
       "5       2007.0        54.0     Masculino  "
      ]
     },
     "execution_count": 7,
     "metadata": {},
     "output_type": "execute_result"
    }
   ],
   "source": [
    "x.head()"
   ]
  },
  {
   "cell_type": "code",
   "execution_count": 8,
   "metadata": {},
   "outputs": [
    {
     "data": {
      "text/plain": [
       "0    Inattentive drivers\n",
       "1    Inattentive drivers\n",
       "3    Inattentive drivers\n",
       "4      Dangerous drivers\n",
       "5    Inattentive drivers\n",
       "Name: Accident cause, dtype: object"
      ]
     },
     "execution_count": 8,
     "metadata": {},
     "output_type": "execute_result"
    }
   ],
   "source": [
    "y.head()"
   ]
  },
  {
   "cell_type": "markdown",
   "metadata": {},
   "source": [
    "#### Label Enconder"
   ]
  },
  {
   "cell_type": "code",
   "execution_count": 9,
   "metadata": {},
   "outputs": [],
   "source": [
    "from sklearn.preprocessing import LabelEncoder\n",
    "from collections import defaultdict\n",
    "encoder = defaultdict(LabelEncoder)"
   ]
  },
  {
   "cell_type": "code",
   "execution_count": 10,
   "metadata": {},
   "outputs": [],
   "source": [
    "fit = df.apply(lambda x: encoder[x.name].fit_transform(x))"
   ]
  },
  {
   "cell_type": "code",
   "execution_count": 11,
   "metadata": {},
   "outputs": [
    {
     "data": {
      "text/plain": [
       "defaultdict(sklearn.preprocessing._label.LabelEncoder,\n",
       "            {'Unnamed: 0': LabelEncoder(),\n",
       "             'Unnamed: 0.1': LabelEncoder(),\n",
       "             'Time of year': LabelEncoder(),\n",
       "             'Time of day': LabelEncoder(),\n",
       "             'Weekday': LabelEncoder(),\n",
       "             'Accident cause': LabelEncoder(),\n",
       "             'Weather': LabelEncoder(),\n",
       "             'Latitude': LabelEncoder(),\n",
       "             'Longitude': LabelEncoder(),\n",
       "             'Veicule age': LabelEncoder(),\n",
       "             'Victim age': LabelEncoder(),\n",
       "             'Victim gender': LabelEncoder()})"
      ]
     },
     "execution_count": 11,
     "metadata": {},
     "output_type": "execute_result"
    }
   ],
   "source": [
    "encoder"
   ]
  },
  {
   "cell_type": "code",
   "execution_count": 12,
   "metadata": {},
   "outputs": [],
   "source": [
    "import pickle\n",
    "filename = 'label_encoder.sav' \n",
    "pickle.dump(encoder, open('../model/'+ filename, 'wb'))"
   ]
  },
  {
   "cell_type": "code",
   "execution_count": 13,
   "metadata": {},
   "outputs": [
    {
     "data": {
      "text/plain": [
       "Index(['Time of year', 'Time of day', 'Weekday', 'Weather', 'Latitude',\n",
       "       'Longitude', 'Veicule age', 'Victim age', 'Victim gender'],\n",
       "      dtype='object')"
      ]
     },
     "execution_count": 13,
     "metadata": {},
     "output_type": "execute_result"
    }
   ],
   "source": [
    "x.columns"
   ]
  },
  {
   "cell_type": "code",
   "execution_count": 14,
   "metadata": {},
   "outputs": [],
   "source": [
    "x = x.iloc[ :, : ].values\n",
    "x[ : ,2] = encoder['Weekday'].transform(x[ :, 2])\n",
    "x[ : ,3] = encoder['Weather'].transform(x[ :, 3])\n",
    "x[ : ,8] = encoder['Victim gender'].transform(x[ :, 8])\n"
   ]
  },
  {
   "cell_type": "code",
   "execution_count": 15,
   "metadata": {},
   "outputs": [
    {
     "data": {
      "text/plain": [
       "array([[340, 20400, 1, ..., 2008.0, 38.0, 2],\n",
       "       [340, 20400, 1, ..., 2008.0, 14.0, 2],\n",
       "       [360, 21600, 1, ..., 2015.0, 64.0, 2],\n",
       "       ...,\n",
       "       [481503, 32580, 5, ..., 2005.0, 46.0, 0],\n",
       "       [481503, 32580, 5, ..., 2005.0, 46.0, 2],\n",
       "       [481503, 32580, 5, ..., 2005.0, 36.0, 0]], dtype=object)"
      ]
     },
     "execution_count": 15,
     "metadata": {},
     "output_type": "execute_result"
    }
   ],
   "source": [
    "x"
   ]
  },
  {
   "cell_type": "code",
   "execution_count": 16,
   "metadata": {},
   "outputs": [
    {
     "data": {
      "text/plain": [
       "array([4, 4, 4, ..., 4, 4, 4])"
      ]
     },
     "execution_count": 16,
     "metadata": {},
     "output_type": "execute_result"
    }
   ],
   "source": [
    "y = encoder['Accident cause'].transform(y)\n",
    "y"
   ]
  },
  {
   "cell_type": "markdown",
   "metadata": {},
   "source": [
    "#### Balanceamento - OverSampler"
   ]
  },
  {
   "cell_type": "code",
   "execution_count": 17,
   "metadata": {},
   "outputs": [],
   "source": [
    "from imblearn.over_sampling import RandomOverSampler"
   ]
  },
  {
   "cell_type": "code",
   "execution_count": 18,
   "metadata": {},
   "outputs": [],
   "source": [
    "ros = RandomOverSampler(random_state=0)\n",
    "X_res, y_res = ros.fit_resample(x, y)"
   ]
  },
  {
   "cell_type": "code",
   "execution_count": 19,
   "metadata": {},
   "outputs": [
    {
     "data": {
      "text/plain": [
       "array([2, 3, 5, ..., 3, 3, 1])"
      ]
     },
     "execution_count": 19,
     "metadata": {},
     "output_type": "execute_result"
    }
   ],
   "source": [
    "from sklearn.model_selection import train_test_split\n",
    "\n",
    "X_train, X_test, y_train, y_test = train_test_split(X_res, y_res, test_size = 0.3)\n",
    "y_train"
   ]
  },
  {
   "cell_type": "markdown",
   "metadata": {},
   "source": [
    "#### Modelo"
   ]
  },
  {
   "cell_type": "code",
   "execution_count": 20,
   "metadata": {},
   "outputs": [],
   "source": [
    "import xgboost as xgb"
   ]
  },
  {
   "cell_type": "code",
   "execution_count": 21,
   "metadata": {},
   "outputs": [],
   "source": [
    "model = xgb.XGBClassifier()"
   ]
  },
  {
   "cell_type": "code",
   "execution_count": 22,
   "metadata": {},
   "outputs": [
    {
     "data": {
      "text/plain": [
       "XGBClassifier(base_score=0.5, booster='gbtree', colsample_bylevel=1,\n",
       "              colsample_bynode=1, colsample_bytree=1, gamma=0, gpu_id=-1,\n",
       "              importance_type='gain', interaction_constraints='',\n",
       "              learning_rate=0.300000012, max_delta_step=0, max_depth=6,\n",
       "              min_child_weight=1, missing=nan, monotone_constraints='()',\n",
       "              n_estimators=100, n_jobs=0, num_parallel_tree=1,\n",
       "              objective='multi:softprob', random_state=0, reg_alpha=0,\n",
       "              reg_lambda=1, scale_pos_weight=None, subsample=1,\n",
       "              tree_method='exact', validate_parameters=1, verbosity=None)"
      ]
     },
     "execution_count": 22,
     "metadata": {},
     "output_type": "execute_result"
    }
   ],
   "source": [
    "eval_set = [(X_train, y_train), (X_test, y_test)]\n",
    "\n",
    "model.fit(\n",
    "    X_train, \n",
    "    y_train,\n",
    "    eval_set=eval_set,\n",
    "    eval_metric=[\"merror\", \"mlogloss\"],\n",
    "    verbose=False \n",
    ")"
   ]
  },
  {
   "cell_type": "code",
   "execution_count": 23,
   "metadata": {},
   "outputs": [],
   "source": [
    "pred = model.predict(X_test)"
   ]
  },
  {
   "cell_type": "code",
   "execution_count": 24,
   "metadata": {},
   "outputs": [
    {
     "data": {
      "text/plain": [
       "array([5, 5, 3, ..., 2, 5, 0])"
      ]
     },
     "execution_count": 24,
     "metadata": {},
     "output_type": "execute_result"
    }
   ],
   "source": [
    "pred"
   ]
  },
  {
   "cell_type": "code",
   "execution_count": 25,
   "metadata": {},
   "outputs": [
    {
     "name": "stdout",
     "output_type": "stream",
     "text": [
      "Accuracy: 0.5938158647867247\n"
     ]
    }
   ],
   "source": [
    "from sklearn.metrics import accuracy_score\n",
    "\n",
    "print(\"Accuracy: {}\".format(accuracy_score(y_test, pred)))"
   ]
  },
  {
   "cell_type": "code",
   "execution_count": 26,
   "metadata": {},
   "outputs": [
    {
     "data": {
      "text/plain": [
       "array([1, 5, 1, ..., 4, 5, 4])"
      ]
     },
     "execution_count": 26,
     "metadata": {},
     "output_type": "execute_result"
    }
   ],
   "source": [
    "y_test"
   ]
  },
  {
   "cell_type": "code",
   "execution_count": 27,
   "metadata": {},
   "outputs": [],
   "source": [
    "result = encoder['Accident cause'].inverse_transform(y_test)"
   ]
  },
  {
   "cell_type": "code",
   "execution_count": 28,
   "metadata": {},
   "outputs": [
    {
     "data": {
      "text/plain": [
       "array(['Dangerous climate conditions', 'People on the road',\n",
       "       'Dangerous climate conditions', ..., 'Inattentive drivers',\n",
       "       'People on the road', 'Inattentive drivers'], dtype=object)"
      ]
     },
     "execution_count": 28,
     "metadata": {},
     "output_type": "execute_result"
    }
   ],
   "source": [
    "result"
   ]
  },
  {
   "cell_type": "code",
   "execution_count": 29,
   "metadata": {},
   "outputs": [],
   "source": [
    "from matplotlib import pyplot"
   ]
  },
  {
   "cell_type": "code",
   "execution_count": 30,
   "metadata": {},
   "outputs": [
    {
     "data": {
      "image/png": "[encoded data removed]",
      "text/plain": [
       "<Figure size 432x288 with 1 Axes>"
      ]
     },
     "metadata": {
      "needs_background": "light"
     },
     "output_type": "display_data"
    },
    {
     "data": {
      "image/png": "[encoded data removed]",
      "text/plain": [
       "<Figure size 432x288 with 1 Axes>"
      ]
     },
     "metadata": {
      "needs_background": "light"
     },
     "output_type": "display_data"
    }
   ],
   "source": [
    "results = model.evals_result()\n",
    "epochs = len(results['validation_0']['merror'])\n",
    "x_axis = range(0, epochs)\n",
    "# plot log loss\n",
    "fig, ax = pyplot.subplots()\n",
    "ax.plot(x_axis, results['validation_0']['mlogloss'], label='Train')\n",
    "ax.plot(x_axis, results['validation_1']['mlogloss'], label='Test')\n",
    "ax.legend()\n",
    "pyplot.ylabel('Log Loss')\n",
    "pyplot.title('XGBoost Log Loss')\n",
    "pyplot.show()\n",
    "# plot classification error\n",
    "fig, ax = pyplot.subplots()\n",
    "ax.plot(x_axis, results['validation_0']['merror'], label='Train')\n",
    "ax.plot(x_axis, results['validation_1']['merror'], label='Test')\n",
    "ax.legend()\n",
    "pyplot.ylabel('Classification Error')\n",
    "pyplot.title('XGBoost Classification Error')\n",
    "pyplot.show()"
   ]
  },
  {
   "cell_type": "markdown",
   "metadata": {},
   "source": [
    "#### Salvando o modelo"
   ]
  },
  {
   "cell_type": "code",
   "execution_count": 31,
   "metadata": {},
   "outputs": [],
   "source": [
    "import pickle"
   ]
  },
  {
   "cell_type": "code",
   "execution_count": 32,
   "metadata": {},
   "outputs": [],
   "source": [
    "filename = 'xboost_model.sav' \n",
    "pickle.dump(model, open('../model/'+ filename, 'wb'))"
   ]
  },
  {
   "cell_type": "markdown",
   "metadata": {},
   "source": [
    "#### Carregando o modelo"
   ]
  },
  {
   "cell_type": "code",
   "execution_count": 33,
   "metadata": {},
   "outputs": [],
   "source": [
    "# model = pickle.load(open('../model/'+ filename, \"rb\"))"
   ]
  },
  {
   "cell_type": "code",
   "execution_count": 34,
   "metadata": {},
   "outputs": [],
   "source": [
    "# encoder = pickle.load(open('../model/label_encoder.sav', \"rb\"))"
   ]
  },
  {
   "cell_type": "code",
   "execution_count": 35,
   "metadata": {},
   "outputs": [
    {
     "data": {
      "text/html": [
       "<div>\n",
       "<style scoped>\n",
       "    .dataframe tbody tr th:only-of-type {\n",
       "        vertical-align: middle;\n",
       "    }\n",
       "\n",
       "    .dataframe tbody tr th {\n",
       "        vertical-align: top;\n",
       "    }\n",
       "\n",
       "    .dataframe thead th {\n",
       "        text-align: right;\n",
       "    }\n",
       "</style>\n",
       "<table border=\"1\" class=\"dataframe\">\n",
       "  <thead>\n",
       "    <tr style=\"text-align: right;\">\n",
       "      <th></th>\n",
       "      <th>Unnamed: 0</th>\n",
       "      <th>Unnamed: 0.1</th>\n",
       "      <th>Time of year</th>\n",
       "      <th>Time of day</th>\n",
       "      <th>Weekday</th>\n",
       "      <th>Accident cause</th>\n",
       "      <th>Weather</th>\n",
       "      <th>Latitude</th>\n",
       "      <th>Longitude</th>\n",
       "      <th>Veicule age</th>\n",
       "      <th>Victim age</th>\n",
       "      <th>Victim gender</th>\n",
       "    </tr>\n",
       "  </thead>\n",
       "  <tbody>\n",
       "    <tr>\n",
       "      <th>902458</th>\n",
       "      <td>902458</td>\n",
       "      <td>269134</td>\n",
       "      <td>481503</td>\n",
       "      <td>32580</td>\n",
       "      <td>SÁB</td>\n",
       "      <td>Inattentive drivers</td>\n",
       "      <td>Ceu Claro</td>\n",
       "      <td>-24.96363</td>\n",
       "      <td>-53.45366</td>\n",
       "      <td>2005.0</td>\n",
       "      <td>55.0</td>\n",
       "      <td>Feminino</td>\n",
       "    </tr>\n",
       "    <tr>\n",
       "      <th>902459</th>\n",
       "      <td>902459</td>\n",
       "      <td>269135</td>\n",
       "      <td>481503</td>\n",
       "      <td>32580</td>\n",
       "      <td>SÁB</td>\n",
       "      <td>Inattentive drivers</td>\n",
       "      <td>Ceu Claro</td>\n",
       "      <td>-24.96363</td>\n",
       "      <td>-53.45366</td>\n",
       "      <td>2005.0</td>\n",
       "      <td>25.0</td>\n",
       "      <td>Feminino</td>\n",
       "    </tr>\n",
       "    <tr>\n",
       "      <th>902460</th>\n",
       "      <td>902460</td>\n",
       "      <td>269136</td>\n",
       "      <td>481503</td>\n",
       "      <td>32580</td>\n",
       "      <td>SÁB</td>\n",
       "      <td>Inattentive drivers</td>\n",
       "      <td>Ceu Claro</td>\n",
       "      <td>-24.96363</td>\n",
       "      <td>-53.45366</td>\n",
       "      <td>2005.0</td>\n",
       "      <td>46.0</td>\n",
       "      <td>Feminino</td>\n",
       "    </tr>\n",
       "    <tr>\n",
       "      <th>902461</th>\n",
       "      <td>902461</td>\n",
       "      <td>269137</td>\n",
       "      <td>481503</td>\n",
       "      <td>32580</td>\n",
       "      <td>SÁB</td>\n",
       "      <td>Inattentive drivers</td>\n",
       "      <td>Ceu Claro</td>\n",
       "      <td>-24.96363</td>\n",
       "      <td>-53.45366</td>\n",
       "      <td>2005.0</td>\n",
       "      <td>46.0</td>\n",
       "      <td>Masculino</td>\n",
       "    </tr>\n",
       "    <tr>\n",
       "      <th>902462</th>\n",
       "      <td>902462</td>\n",
       "      <td>269138</td>\n",
       "      <td>481503</td>\n",
       "      <td>32580</td>\n",
       "      <td>SÁB</td>\n",
       "      <td>Inattentive drivers</td>\n",
       "      <td>Ceu Claro</td>\n",
       "      <td>-24.96363</td>\n",
       "      <td>-53.45366</td>\n",
       "      <td>2005.0</td>\n",
       "      <td>36.0</td>\n",
       "      <td>Feminino</td>\n",
       "    </tr>\n",
       "  </tbody>\n",
       "</table>\n",
       "</div>"
      ],
      "text/plain": [
       "        Unnamed: 0  Unnamed: 0.1  Time of year  Time of day Weekday  \\\n",
       "902458      902458        269134        481503        32580     SÁB   \n",
       "902459      902459        269135        481503        32580     SÁB   \n",
       "902460      902460        269136        481503        32580     SÁB   \n",
       "902461      902461        269137        481503        32580     SÁB   \n",
       "902462      902462        269138        481503        32580     SÁB   \n",
       "\n",
       "             Accident cause    Weather  Latitude  Longitude  Veicule age  \\\n",
       "902458  Inattentive drivers  Ceu Claro -24.96363  -53.45366       2005.0   \n",
       "902459  Inattentive drivers  Ceu Claro -24.96363  -53.45366       2005.0   \n",
       "902460  Inattentive drivers  Ceu Claro -24.96363  -53.45366       2005.0   \n",
       "902461  Inattentive drivers  Ceu Claro -24.96363  -53.45366       2005.0   \n",
       "902462  Inattentive drivers  Ceu Claro -24.96363  -53.45366       2005.0   \n",
       "\n",
       "        Victim age Victim gender  \n",
       "902458        55.0      Feminino  \n",
       "902459        25.0      Feminino  \n",
       "902460        46.0      Feminino  \n",
       "902461        46.0     Masculino  \n",
       "902462        36.0      Feminino  "
      ]
     },
     "execution_count": 35,
     "metadata": {},
     "output_type": "execute_result"
    }
   ],
   "source": [
    "df.tail()"
   ]
  },
  {
   "cell_type": "code",
   "execution_count": null,
   "metadata": {},
   "outputs": [],
   "source": []
  }
 ],
 "metadata": {
  "kernelspec": {
   "display_name": "Python 3",
   "language": "python",
   "name": "python3"
  },
  "language_info": {
   "codemirror_mode": {
    "name": "ipython",
    "version": 3
   },
   "file_extension": ".py",
   "mimetype": "text/x-python",
   "name": "python",
   "nbconvert_exporter": "python",
   "pygments_lexer": "ipython3",
   "version": "3.7.9"
  }
 },
 "nbformat": 4,
 "nbformat_minor": 4
}
