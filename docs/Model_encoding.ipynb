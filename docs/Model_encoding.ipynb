{
 "cells": [
  {
   "cell_type": "code",
   "execution_count": 1,
   "metadata": {},
   "outputs": [],
   "source": [
    "import pandas as pd"
   ]
  },
  {
   "cell_type": "code",
   "execution_count": 2,
   "metadata": {},
   "outputs": [],
   "source": [
    "df = pd.read_csv('../dataset/acidentes2020.csv', encoding=\"UTF-8\", delimiter = ';', decimal=',')"
   ]
  },
  {
   "cell_type": "code",
   "execution_count": 3,
   "metadata": {},
   "outputs": [
    {
     "data": {
      "text/html": [
       "<div>\n",
       "<style scoped>\n",
       "    .dataframe tbody tr th:only-of-type {\n",
       "        vertical-align: middle;\n",
       "    }\n",
       "\n",
       "    .dataframe tbody tr th {\n",
       "        vertical-align: top;\n",
       "    }\n",
       "\n",
       "    .dataframe thead th {\n",
       "        text-align: right;\n",
       "    }\n",
       "</style>\n",
       "<table border=\"1\" class=\"dataframe\">\n",
       "  <thead>\n",
       "    <tr style=\"text-align: right;\">\n",
       "      <th></th>\n",
       "      <th>Date</th>\n",
       "      <th>Weekday</th>\n",
       "      <th>City</th>\n",
       "      <th>Accident cause</th>\n",
       "      <th>Accident type</th>\n",
       "      <th>Time</th>\n",
       "      <th>UF</th>\n",
       "      <th>Weather</th>\n",
       "      <th>Latitude</th>\n",
       "      <th>Longitude</th>\n",
       "      <th>Veicule age</th>\n",
       "      <th>Victim age</th>\n",
       "      <th>Victim gender</th>\n",
       "    </tr>\n",
       "  </thead>\n",
       "  <tbody>\n",
       "    <tr>\n",
       "      <th>0</th>\n",
       "      <td>01/01/2020</td>\n",
       "      <td>QUA</td>\n",
       "      <td>SAO FRANCISCO DO PARA</td>\n",
       "      <td>Falta de Atenção à Condução</td>\n",
       "      <td>Saída de leito carroçável</td>\n",
       "      <td>05:40</td>\n",
       "      <td>PA</td>\n",
       "      <td>Sol</td>\n",
       "      <td>-1.310193</td>\n",
       "      <td>-47.744564</td>\n",
       "      <td>2008.0</td>\n",
       "      <td>38.0</td>\n",
       "      <td>Masculino</td>\n",
       "    </tr>\n",
       "    <tr>\n",
       "      <th>1</th>\n",
       "      <td>01/01/2020</td>\n",
       "      <td>QUA</td>\n",
       "      <td>SAO FRANCISCO DO PARA</td>\n",
       "      <td>Falta de Atenção à Condução</td>\n",
       "      <td>Saída de leito carroçável</td>\n",
       "      <td>05:40</td>\n",
       "      <td>PA</td>\n",
       "      <td>Sol</td>\n",
       "      <td>-1.310193</td>\n",
       "      <td>-47.744564</td>\n",
       "      <td>2008.0</td>\n",
       "      <td>14.0</td>\n",
       "      <td>Masculino</td>\n",
       "    </tr>\n",
       "    <tr>\n",
       "      <th>2</th>\n",
       "      <td>01/01/2020</td>\n",
       "      <td>QUA</td>\n",
       "      <td>UBERABA</td>\n",
       "      <td>Falta de Atenção à Condução</td>\n",
       "      <td>Colisão transversal</td>\n",
       "      <td>06:00</td>\n",
       "      <td>MG</td>\n",
       "      <td>Sol</td>\n",
       "      <td>-19.767475</td>\n",
       "      <td>-47.987255</td>\n",
       "      <td>NaN</td>\n",
       "      <td>NaN</td>\n",
       "      <td>Masculino</td>\n",
       "    </tr>\n",
       "    <tr>\n",
       "      <th>3</th>\n",
       "      <td>01/01/2020</td>\n",
       "      <td>QUA</td>\n",
       "      <td>CANUDOS</td>\n",
       "      <td>Condutor Dormindo</td>\n",
       "      <td>Saída de leito carroçável</td>\n",
       "      <td>06:00</td>\n",
       "      <td>BA</td>\n",
       "      <td>Nublado</td>\n",
       "      <td>-10.320021</td>\n",
       "      <td>-39.064252</td>\n",
       "      <td>2015.0</td>\n",
       "      <td>64.0</td>\n",
       "      <td>Masculino</td>\n",
       "    </tr>\n",
       "    <tr>\n",
       "      <th>4</th>\n",
       "      <td>01/01/2020</td>\n",
       "      <td>QUA</td>\n",
       "      <td>APARECIDA</td>\n",
       "      <td>Não guardar distância de segurança</td>\n",
       "      <td>Colisão traseira</td>\n",
       "      <td>10:08</td>\n",
       "      <td>SP</td>\n",
       "      <td>Sol</td>\n",
       "      <td>-22.856517</td>\n",
       "      <td>-45.231143</td>\n",
       "      <td>2015.0</td>\n",
       "      <td>57.0</td>\n",
       "      <td>Masculino</td>\n",
       "    </tr>\n",
       "  </tbody>\n",
       "</table>\n",
       "</div>"
      ],
      "text/plain": [
       "         Date Weekday                   City  \\\n",
       "0  01/01/2020     QUA  SAO FRANCISCO DO PARA   \n",
       "1  01/01/2020     QUA  SAO FRANCISCO DO PARA   \n",
       "2  01/01/2020     QUA                UBERABA   \n",
       "3  01/01/2020     QUA                CANUDOS   \n",
       "4  01/01/2020     QUA              APARECIDA   \n",
       "\n",
       "                       Accident cause              Accident type   Time  UF  \\\n",
       "0         Falta de Atenção à Condução  Saída de leito carroçável  05:40  PA   \n",
       "1         Falta de Atenção à Condução  Saída de leito carroçável  05:40  PA   \n",
       "2         Falta de Atenção à Condução        Colisão transversal  06:00  MG   \n",
       "3                   Condutor Dormindo  Saída de leito carroçável  06:00  BA   \n",
       "4  Não guardar distância de segurança           Colisão traseira  10:08  SP   \n",
       "\n",
       "   Weather   Latitude  Longitude  Veicule age  Victim age Victim gender  \n",
       "0      Sol  -1.310193 -47.744564       2008.0        38.0     Masculino  \n",
       "1      Sol  -1.310193 -47.744564       2008.0        14.0     Masculino  \n",
       "2      Sol -19.767475 -47.987255          NaN         NaN     Masculino  \n",
       "3  Nublado -10.320021 -39.064252       2015.0        64.0     Masculino  \n",
       "4      Sol -22.856517 -45.231143       2015.0        57.0     Masculino  "
      ]
     },
     "execution_count": 3,
     "metadata": {},
     "output_type": "execute_result"
    }
   ],
   "source": [
    "df.head()"
   ]
  },
  {
   "cell_type": "code",
   "execution_count": 4,
   "metadata": {},
   "outputs": [],
   "source": [
    "from sklearn.preprocessing import LabelEncoder as le"
   ]
  },
  {
   "cell_type": "code",
   "execution_count": 5,
   "metadata": {},
   "outputs": [],
   "source": [
    "df.dropna(inplace=True)"
   ]
  },
  {
   "cell_type": "code",
   "execution_count": 6,
   "metadata": {},
   "outputs": [],
   "source": [
    "x = df[['Date', 'Weekday', 'City', 'Time', 'UF', 'Weather', 'Latitude', 'Longitude', 'Veicule age', 'Victim age', 'Victim gender']]\n",
    "y = df['Accident type'] "
   ]
  },
  {
   "cell_type": "code",
   "execution_count": 7,
   "metadata": {},
   "outputs": [
    {
     "data": {
      "text/html": [
       "<div>\n",
       "<style scoped>\n",
       "    .dataframe tbody tr th:only-of-type {\n",
       "        vertical-align: middle;\n",
       "    }\n",
       "\n",
       "    .dataframe tbody tr th {\n",
       "        vertical-align: top;\n",
       "    }\n",
       "\n",
       "    .dataframe thead th {\n",
       "        text-align: right;\n",
       "    }\n",
       "</style>\n",
       "<table border=\"1\" class=\"dataframe\">\n",
       "  <thead>\n",
       "    <tr style=\"text-align: right;\">\n",
       "      <th></th>\n",
       "      <th>Date</th>\n",
       "      <th>Weekday</th>\n",
       "      <th>City</th>\n",
       "      <th>Time</th>\n",
       "      <th>UF</th>\n",
       "      <th>Weather</th>\n",
       "      <th>Latitude</th>\n",
       "      <th>Longitude</th>\n",
       "      <th>Veicule age</th>\n",
       "      <th>Victim age</th>\n",
       "      <th>Victim gender</th>\n",
       "    </tr>\n",
       "  </thead>\n",
       "  <tbody>\n",
       "    <tr>\n",
       "      <th>0</th>\n",
       "      <td>01/01/2020</td>\n",
       "      <td>QUA</td>\n",
       "      <td>SAO FRANCISCO DO PARA</td>\n",
       "      <td>05:40</td>\n",
       "      <td>PA</td>\n",
       "      <td>Sol</td>\n",
       "      <td>-1.310193</td>\n",
       "      <td>-47.744564</td>\n",
       "      <td>2008.0</td>\n",
       "      <td>38.0</td>\n",
       "      <td>Masculino</td>\n",
       "    </tr>\n",
       "    <tr>\n",
       "      <th>1</th>\n",
       "      <td>01/01/2020</td>\n",
       "      <td>QUA</td>\n",
       "      <td>SAO FRANCISCO DO PARA</td>\n",
       "      <td>05:40</td>\n",
       "      <td>PA</td>\n",
       "      <td>Sol</td>\n",
       "      <td>-1.310193</td>\n",
       "      <td>-47.744564</td>\n",
       "      <td>2008.0</td>\n",
       "      <td>14.0</td>\n",
       "      <td>Masculino</td>\n",
       "    </tr>\n",
       "    <tr>\n",
       "      <th>3</th>\n",
       "      <td>01/01/2020</td>\n",
       "      <td>QUA</td>\n",
       "      <td>CANUDOS</td>\n",
       "      <td>06:00</td>\n",
       "      <td>BA</td>\n",
       "      <td>Nublado</td>\n",
       "      <td>-10.320021</td>\n",
       "      <td>-39.064252</td>\n",
       "      <td>2015.0</td>\n",
       "      <td>64.0</td>\n",
       "      <td>Masculino</td>\n",
       "    </tr>\n",
       "    <tr>\n",
       "      <th>4</th>\n",
       "      <td>01/01/2020</td>\n",
       "      <td>QUA</td>\n",
       "      <td>APARECIDA</td>\n",
       "      <td>10:08</td>\n",
       "      <td>SP</td>\n",
       "      <td>Sol</td>\n",
       "      <td>-22.856517</td>\n",
       "      <td>-45.231143</td>\n",
       "      <td>2015.0</td>\n",
       "      <td>57.0</td>\n",
       "      <td>Masculino</td>\n",
       "    </tr>\n",
       "    <tr>\n",
       "      <th>5</th>\n",
       "      <td>01/01/2020</td>\n",
       "      <td>QUA</td>\n",
       "      <td>JUATUBA</td>\n",
       "      <td>12:10</td>\n",
       "      <td>MG</td>\n",
       "      <td>Sol</td>\n",
       "      <td>-19.947864</td>\n",
       "      <td>-44.381226</td>\n",
       "      <td>2007.0</td>\n",
       "      <td>54.0</td>\n",
       "      <td>Masculino</td>\n",
       "    </tr>\n",
       "  </tbody>\n",
       "</table>\n",
       "</div>"
      ],
      "text/plain": [
       "         Date Weekday                   City   Time  UF  Weather   Latitude  \\\n",
       "0  01/01/2020     QUA  SAO FRANCISCO DO PARA  05:40  PA      Sol  -1.310193   \n",
       "1  01/01/2020     QUA  SAO FRANCISCO DO PARA  05:40  PA      Sol  -1.310193   \n",
       "3  01/01/2020     QUA                CANUDOS  06:00  BA  Nublado -10.320021   \n",
       "4  01/01/2020     QUA              APARECIDA  10:08  SP      Sol -22.856517   \n",
       "5  01/01/2020     QUA                JUATUBA  12:10  MG      Sol -19.947864   \n",
       "\n",
       "   Longitude  Veicule age  Victim age Victim gender  \n",
       "0 -47.744564       2008.0        38.0     Masculino  \n",
       "1 -47.744564       2008.0        14.0     Masculino  \n",
       "3 -39.064252       2015.0        64.0     Masculino  \n",
       "4 -45.231143       2015.0        57.0     Masculino  \n",
       "5 -44.381226       2007.0        54.0     Masculino  "
      ]
     },
     "execution_count": 7,
     "metadata": {},
     "output_type": "execute_result"
    }
   ],
   "source": [
    "x.head()"
   ]
  },
  {
   "cell_type": "code",
   "execution_count": 8,
   "metadata": {},
   "outputs": [
    {
     "data": {
      "text/plain": [
       "0    Saída de leito carroçável\n",
       "1    Saída de leito carroçável\n",
       "3    Saída de leito carroçável\n",
       "4             Colisão traseira\n",
       "5    Saída de leito carroçável\n",
       "Name: Accident type, dtype: object"
      ]
     },
     "execution_count": 8,
     "metadata": {},
     "output_type": "execute_result"
    }
   ],
   "source": [
    "y.head()"
   ]
  },
  {
   "cell_type": "markdown",
   "metadata": {},
   "source": [
    "#### Label Enconder"
   ]
  },
  {
   "cell_type": "code",
   "execution_count": 9,
   "metadata": {
    "scrolled": true
   },
   "outputs": [
    {
     "data": {
      "text/plain": [
       "array([[0, 1, 1433, ..., 2008.0, 38.0, 2],\n",
       "       [0, 1, 1433, ..., 2008.0, 14.0, 2],\n",
       "       [0, 1, 328, ..., 2015.0, 64.0, 2],\n",
       "       ...,\n",
       "       [259, 5, 1458, ..., 2011.0, 58.0, 2],\n",
       "       [259, 5, 1458, ..., 2011.0, 18.0, 2],\n",
       "       [259, 5, 1458, ..., 2012.0, 52.0, 2]], dtype=object)"
      ]
     },
     "execution_count": 9,
     "metadata": {},
     "output_type": "execute_result"
    }
   ],
   "source": [
    "from sklearn.preprocessing import LabelEncoder\n",
    "label_encoder = LabelEncoder()\n",
    "x = x.iloc[ :, : ].values\n",
    "x[ : ,0] = label_encoder.fit_transform(x[ :, 0])\n",
    "x[ : ,1] = label_encoder.fit_transform(x[ :, 1])\n",
    "x[ : ,2] = label_encoder.fit_transform(x[ :, 2])\n",
    "x[ : ,3] = label_encoder.fit_transform(x[ :, 3])\n",
    "x[ : ,4] = label_encoder.fit_transform(x[ :, 4])\n",
    "x[ : ,5] = label_encoder.fit_transform(x[ :, 5])\n",
    "x[ : ,10]= label_encoder.fit_transform(x[ :, 10])\n",
    "\n",
    "x"
   ]
  },
  {
   "cell_type": "code",
   "execution_count": 10,
   "metadata": {},
   "outputs": [
    {
     "data": {
      "text/plain": [
       "array([14, 14, 14, ...,  8,  8,  8])"
      ]
     },
     "execution_count": 10,
     "metadata": {},
     "output_type": "execute_result"
    }
   ],
   "source": [
    "y = label_encoder.fit_transform(y)\n",
    "y"
   ]
  },
  {
   "cell_type": "markdown",
   "metadata": {},
   "source": [
    "#### Balanceamento - OverSampler"
   ]
  },
  {
   "cell_type": "code",
   "execution_count": 11,
   "metadata": {},
   "outputs": [],
   "source": [
    "from imblearn.over_sampling import RandomOverSampler"
   ]
  },
  {
   "cell_type": "code",
   "execution_count": 12,
   "metadata": {},
   "outputs": [],
   "source": [
    "ros = RandomOverSampler(random_state=0)\n",
    "X_res, y_res = ros.fit_resample(x, y)"
   ]
  },
  {
   "cell_type": "code",
   "execution_count": 13,
   "metadata": {},
   "outputs": [
    {
     "data": {
      "text/plain": [
       "array([ 9,  3,  3, ...,  1, 10,  7])"
      ]
     },
     "execution_count": 13,
     "metadata": {},
     "output_type": "execute_result"
    }
   ],
   "source": [
    "from sklearn.model_selection import train_test_split\n",
    "\n",
    "X_train, X_test, y_train, y_test = train_test_split(X_res, y_res, test_size = 0.3)\n",
    "y_train"
   ]
  },
  {
   "cell_type": "markdown",
   "metadata": {},
   "source": [
    "#### Modelo"
   ]
  },
  {
   "cell_type": "code",
   "execution_count": 14,
   "metadata": {},
   "outputs": [],
   "source": [
    "import xgboost as xgb"
   ]
  },
  {
   "cell_type": "code",
   "execution_count": 15,
   "metadata": {},
   "outputs": [],
   "source": [
    "model = xgb.XGBClassifier()"
   ]
  },
  {
   "cell_type": "code",
   "execution_count": 16,
   "metadata": {},
   "outputs": [
    {
     "data": {
      "text/plain": [
       "XGBClassifier(base_score=0.5, booster='gbtree', colsample_bylevel=1,\n",
       "              colsample_bynode=1, colsample_bytree=1, gamma=0, gpu_id=-1,\n",
       "              importance_type='gain', interaction_constraints='',\n",
       "              learning_rate=0.300000012, max_delta_step=0, max_depth=6,\n",
       "              min_child_weight=1, missing=nan, monotone_constraints='()',\n",
       "              n_estimators=100, n_jobs=0, num_parallel_tree=1,\n",
       "              objective='multi:softprob', random_state=0, reg_alpha=0,\n",
       "              reg_lambda=1, scale_pos_weight=None, subsample=1,\n",
       "              tree_method='exact', validate_parameters=1, verbosity=None)"
      ]
     },
     "execution_count": 16,
     "metadata": {},
     "output_type": "execute_result"
    }
   ],
   "source": [
    "eval_set = [(X_train, y_train), (X_test, y_test)]\n",
    "\n",
    "model.fit(\n",
    "    X_train, \n",
    "    y_train,\n",
    "    eval_set=eval_set,\n",
    "    eval_metric=[\"merror\", \"mlogloss\"],\n",
    "    verbose=False \n",
    ")"
   ]
  },
  {
   "cell_type": "code",
   "execution_count": 17,
   "metadata": {},
   "outputs": [],
   "source": [
    "pred = model.predict(X_test)"
   ]
  },
  {
   "cell_type": "code",
   "execution_count": 18,
   "metadata": {},
   "outputs": [
    {
     "data": {
      "text/plain": [
       "array([12,  6,  2, ...,  3, 12,  8])"
      ]
     },
     "execution_count": 18,
     "metadata": {},
     "output_type": "execute_result"
    }
   ],
   "source": [
    "pred"
   ]
  },
  {
   "cell_type": "code",
   "execution_count": 19,
   "metadata": {},
   "outputs": [
    {
     "name": "stdout",
     "output_type": "stream",
     "text": [
      "Accuracy: 0.7309777509018496\n"
     ]
    }
   ],
   "source": [
    "from sklearn.metrics import accuracy_score\n",
    "\n",
    "print(\"Accuracy: {}\".format(accuracy_score(y_test, pred)))"
   ]
  },
  {
   "cell_type": "code",
   "execution_count": 20,
   "metadata": {},
   "outputs": [
    {
     "data": {
      "text/plain": [
       "array([12,  4,  2, ...,  3, 12,  5])"
      ]
     },
     "execution_count": 20,
     "metadata": {},
     "output_type": "execute_result"
    }
   ],
   "source": [
    "y_test"
   ]
  },
  {
   "cell_type": "code",
   "execution_count": 21,
   "metadata": {},
   "outputs": [],
   "source": [
    "from matplotlib import pyplot"
   ]
  },
  {
   "cell_type": "code",
   "execution_count": 22,
   "metadata": {},
   "outputs": [
    {
     "data": {
      "image/png": "[encoded data removed]",
      "text/plain": [
       "<Figure size 432x288 with 1 Axes>"
      ]
     },
     "metadata": {
      "needs_background": "light"
     },
     "output_type": "display_data"
    },
    {
     "data": {
      "image/png": "[encoded data removed]",
      "text/plain": [
       "<Figure size 432x288 with 1 Axes>"
      ]
     },
     "metadata": {
      "needs_background": "light"
     },
     "output_type": "display_data"
    }
   ],
   "source": [
    "results = model.evals_result()\n",
    "epochs = len(results['validation_0']['merror'])\n",
    "x_axis = range(0, epochs)\n",
    "# plot log loss\n",
    "fig, ax = pyplot.subplots()\n",
    "ax.plot(x_axis, results['validation_0']['mlogloss'], label='Train')\n",
    "ax.plot(x_axis, results['validation_1']['mlogloss'], label='Test')\n",
    "ax.legend()\n",
    "pyplot.ylabel('Log Loss')\n",
    "pyplot.title('XGBoost Log Loss')\n",
    "pyplot.show()\n",
    "# plot classification error\n",
    "fig, ax = pyplot.subplots()\n",
    "ax.plot(x_axis, results['validation_0']['merror'], label='Train')\n",
    "ax.plot(x_axis, results['validation_1']['merror'], label='Test')\n",
    "ax.legend()\n",
    "pyplot.ylabel('Classification Error')\n",
    "pyplot.title('XGBoost Classification Error')\n",
    "pyplot.show()"
   ]
  },
  {
   "cell_type": "markdown",
   "metadata": {},
   "source": [
    "#### Salvando o modelo"
   ]
  },
  {
   "cell_type": "code",
   "execution_count": 23,
   "metadata": {},
   "outputs": [],
   "source": [
    "import pickle"
   ]
  },
  {
   "cell_type": "code",
   "execution_count": 25,
   "metadata": {},
   "outputs": [],
   "source": [
    "filename = 'xboost_model.sav' \n",
    "pickle.dump(model, open('../model/'+ filename, 'wb'))"
   ]
  },
  {
   "cell_type": "markdown",
   "metadata": {},
   "source": [
    "#### Carregando o modelo"
   ]
  },
  {
   "cell_type": "code",
   "execution_count": 26,
   "metadata": {},
   "outputs": [],
   "source": [
    "model = pickle.load(open('../model/'+ filename, \"rb\"))"
   ]
  }
 ],
 "metadata": {
  "kernelspec": {
   "display_name": "Python 3",
   "language": "python",
   "name": "python3"
  },
  "language_info": {
   "codemirror_mode": {
    "name": "ipython",
    "version": 3
   },
   "file_extension": ".py",
   "mimetype": "text/x-python",
   "name": "python",
   "nbconvert_exporter": "python",
   "pygments_lexer": "ipython3",
   "version": "3.7.9"
  }
 },
 "nbformat": 4,
 "nbformat_minor": 4
}
